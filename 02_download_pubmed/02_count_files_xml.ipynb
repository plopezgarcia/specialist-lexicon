{
 "cells": [
  {
   "cell_type": "markdown",
   "metadata": {},
   "source": [
    "## contar nº docs por especialidad\n",
    "## contar nº cases reports por especialidad"
   ]
  },
  {
   "cell_type": "code",
   "execution_count": 1,
   "metadata": {},
   "outputs": [],
   "source": [
    "import xml.etree.ElementTree as ET\n",
    "import os"
   ]
  },
  {
   "cell_type": "code",
   "execution_count": 2,
   "metadata": {},
   "outputs": [],
   "source": [
    "def get_lists_pmid_title_abstract(root):\n",
    "    \n",
    "    cont_pmid = 0\n",
    "    cont_title = 0\n",
    "    cont_abstract = 0\n",
    "    \n",
    "    for PubmedArticle in root.findall('PubmedArticle'):\n",
    "        \n",
    "        for MedlineCitation in PubmedArticle.findall('MedlineCitation'):\n",
    "            pmid = MedlineCitation.find('PMID').text\n",
    "            cont_pmid += 1\n",
    "        \n",
    "            for Article in MedlineCitation.findall('Article'):\n",
    "                if not Article.find('VernacularTitle') is None:              \n",
    "                    #title_spa = Article.find('VernacularTitle').text\n",
    "                    cont_title += 1\n",
    "            \n",
    "            for OtherAbstract in MedlineCitation.findall('OtherAbstract'):\n",
    "                abstrac_lang = OtherAbstract.get('Language')\n",
    "                                \n",
    "                if abstrac_lang == 'spa':\n",
    "                    cont_abstract += 1\n",
    "                    #for AbstractText in OtherAbstract.findall('AbstractText'):\n",
    "                    #    if not AbstractText.text is None:\n",
    "                            #abstract_spa = abstract_spa + AbstractText.text + ' '\n",
    "                            \n",
    "         \n",
    "        \n",
    "    return cont_pmid, cont_title, cont_abstract"
   ]
  },
  {
   "cell_type": "code",
   "execution_count": 3,
   "metadata": {},
   "outputs": [],
   "source": [
    "def read_xml_file(file_xml):\n",
    "    tree = ET.parse(file_xml)\n",
    "    root = tree.getroot()\n",
    "    return root"
   ]
  },
  {
   "cell_type": "code",
   "execution_count": 9,
   "metadata": {},
   "outputs": [],
   "source": [
    "def read_path_specialties_xml(path_xmls, path_casesreports_xml):\n",
    "    print(\"ESPECIALIDAD\\t# TITLES\\t# ABSTRACT\\t# TITLES-CASES-REPORT\\t# ABSTRACT-CASES-REPORT\")\n",
    "            \n",
    "    for root, dirs, list_files in os.walk(path_xmls):\n",
    "        list_files.sort(reverse = True)\n",
    "        for specialty in list_files:\n",
    "            \n",
    "            if specialty.endswith('.xml'):\n",
    "            \n",
    "                #print(specialty)\n",
    "                \n",
    "                # contar ficheros sin cases reports\n",
    "                xml_data = read_xml_file(os.path.join(path_xmls ,specialty))\n",
    "                cont_pmid, cont_title, cont_abstract = get_lists_pmid_title_abstract(xml_data)\n",
    "                \n",
    "                # contar cases reports\n",
    "                xml_data = read_xml_file(os.path.join(path_casesreports_xml ,specialty))\n",
    "                cont_pmid_cr, cont_title_cr, cont_abstract_cr = get_lists_pmid_title_abstract(xml_data)\n",
    "                print(\"{}\\t{}\\t{}\\t{}\\t{}\".format(specialty, cont_title, cont_abstract, cont_title_cr, cont_abstract_cr))\n",
    "                "
   ]
  },
  {
   "cell_type": "code",
   "execution_count": 10,
   "metadata": {},
   "outputs": [
    {
     "name": "stdout",
     "output_type": "stream",
     "text": [
      "ESPECIALIDAD\t# TITLES\t# ABSTRACT\t# TITLES-CASES-REPORT\t# ABSTRACT-CASES-REPORT\n",
      "H02.403.959_wilderness_medicine.xml\t0\t0\t0\t0\n",
      "H02.403.909_venereology.xml\t4944\t50\t1600\t9\n",
      "H02.403.879_tropical_medicine.xml\t973\t17\t88\t2\n",
      "H02.403.850_travel_medicine.xml\t7\t0\t1\t0\n",
      "H02.403.830_sports_medicine.xml\t332\t21\t102\t3\n",
      "H02.403.810_specialties_surgical.xml\t293\t11\t28\t4\n",
      "H02.403.810.860_urology.xml\t13844\t193\t6626\t42\n",
      "H02.403.810.850_traumatology.xml\t6020\t269\t3303\t78\n",
      "H02.403.810.803_thoracic_surgery.xml\t4863\t48\t1691\t22\n",
      "H02.403.810.788_surgery_plastic.xml\t1174\t47\t320\t28\n",
      "H02.403.810.526_otolaryngology.xml\t4689\t77\t2398\t32\n",
      "H02.403.810.494_orthopedics.xml\t1772\t151\t515\t46\n",
      "H02.403.810.468_ophthalmology.xml\t4698\t95\t2727\t48\n",
      "H02.403.810.450_obstetrics.xml\t8591\t155\t1821\t29\n",
      "H02.403.810.425_neurosurgery.xml\t2862\t69\t933\t18\n",
      "H02.403.810.310_gynecology.xml\t7732\t116\t1625\t17\n",
      "H02.403.810.300_general_surgery.xml\t31487\t455\t10141\t169\n",
      "H02.403.763_reproductive_medicine.xml\t1627\t15\t87\t2\n",
      "H02.403.763.750_gynecology.xml\t7732\t116\t1625\t17\n",
      "H02.403.750_regenerative_medicine.xml\t179\t5\t16\t0\n",
      "H02.403.740_radiology.xml\t2086\t46\t871\t24\n",
      "H02.403.740.500_nuclear_medicine.xml\t2096\t6\t618\t1\n",
      "H02.403.720.750_preventive_medicine.xml\t90931\t3360\t7195\t149\n",
      "H02.403.720.500_epidemiology.xml\t32572\t1272\t899\t25\n",
      "H02.403.690_psychiatry.xml\t3072\t107\t190\t4\n",
      "H02.403.690.150_community_psychiatry.xml\t6565\t226\t120\t3\n",
      "H02.403.680_physical_and_rehabilitation_medicine.xml\t282\t17\t23\t1\n",
      "H02.403.680.600_rehabilitation.xml\t3194\t261\t325\t31\n",
      "H02.403.670_pediatrics.xml\t6508\t513\t1795\t95\n",
      "H02.403.670.500_perinatology.xml\t8584\t140\t2120\t29\n",
      "H02.403.670.400_neonatology.xml\t10970\t261\t2084\t55\n",
      "H02.403.650_pathology.xml\t20501\t397\t15619\t220\n",
      "H02.403.645_palliative_medicine.xml\t516\t15\t104\t3\n",
      "H02.403.640_osteopathic_medicine.xml\t9\t0\t0\t0\n",
      "H02.403.600_neurology.xml\t23913\t871\t12562\t265\n",
      "H02.403.560_naval_medicine.xml\t140\t0\t10\t0\n",
      "H02.403.500_military_medicine.xml\t214\t3\t1\t0\n",
      "H02.403.429_internal_medicine.xml\t5453\t221\t2520\t24\n",
      "H02.403.429.730_rheumatology.xml\t3429\t69\t1014\t20\n",
      "H02.403.429.675_pulmonary_medicine.xml\t2086\t31\t530\t0\n",
      "H02.403.429.580_nephrology.xml\t7601\t122\t3777\t24\n",
      "H02.403.429.515_medical_oncology.xml\t24949\t305\t16155\t179\n",
      "H02.403.429.480_infectious_disease_medicine.xml\t5283\t102\t257\t16\n",
      "H02.403.429.445_hematology.xml\t7098\t114\t4541\t44\n",
      "H02.403.429.405_gastroenterology.xml\t14895\t165\t7019\t61\n",
      "H02.403.429.323_endocrinology.xml\t11555\t291\t4971\t64\n",
      "H02.403.429.163_cardiology.xml\t27357\t467\t11527\t151\n",
      "H02.403.400_integrative_medicine.xml\t49\t1\t0\t0\n",
      "H02.403.377_hospital_medicine.xml\t24\t0\t0\t0\n",
      "H02.403.355_geriatrics.xml\t35350\t944\t12885\t109\n",
      "H02.403.350_genetics_medical.xml\t6360\t133\t4417\t101\n",
      "H02.403.340_general_practice.xml\t219\t2\t9\t2\n",
      "H02.403.340.500_family_practice.xml\t6593\t135\t363\t1\n",
      "H02.403.330_forensic_medicine.xml\t371\t13\t17\t0\n",
      "H02.403.250_emergency_medicine.xml\t167\t50\t1\t0\n",
      "H02.403.230_disaster_medicine.xml\t9\t2\t0\t0\n",
      "H02.403.225_dermatology.xml\t9412\t144\t6979\t80\n",
      "H02.403.074_bariatric_medicine.xml\t234\t28\t68\t3\n",
      "H02.403.066_anesthesiology.xml\t2136\t30\t810\t7\n",
      "H02.403.044_allergy_and_immunology.xml\t452\t60\t36\t8\n",
      "H02.403.044.500_immunochemistry.xml\t7490\t57\t838\t6\n",
      "H02.403.014_adolescent_medicine.xml\t89\t6\t2\t1\n",
      "H02.403.007_addiction_medicine.xml\t0\t0\t0\t0\n"
     ]
    }
   ],
   "source": [
    "path_files_xmls = 'specialties_subespecialties_xml'\n",
    "path_casesreports_xml = 'specialties_subespecialties_case_report_xml'\n",
    "\n",
    "read_path_specialties_xml(path_files_xmls, path_casesreports_xml)"
   ]
  }
 ],
 "metadata": {
  "kernelspec": {
   "display_name": "Python 3",
   "language": "python",
   "name": "python3"
  },
  "language_info": {
   "codemirror_mode": {
    "name": "ipython",
    "version": 3
   },
   "file_extension": ".py",
   "mimetype": "text/x-python",
   "name": "python",
   "nbconvert_exporter": "python",
   "pygments_lexer": "ipython3",
   "version": "3.5.2"
  }
 },
 "nbformat": 4,
 "nbformat_minor": 2
}
