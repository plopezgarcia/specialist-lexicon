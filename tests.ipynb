{
 "cells": [
  {
   "cell_type": "code",
   "execution_count": 1,
   "metadata": {},
   "outputs": [],
   "source": [
    "from Bio import Entrez\n",
    "import urllib.request\n",
    "import pandas as pd"
   ]
  },
  {
   "cell_type": "code",
   "execution_count": 2,
   "metadata": {},
   "outputs": [],
   "source": [
    "# TODO: paginate to get more results (set at 1000 for testing, max is 10000)\n",
    "def search(query):\n",
    "    Entrez.email = 'your.email@example.com'\n",
    "    handle = Entrez.esearch(db='pubmed', \n",
    "                            sort='relevance', \n",
    "                            retmax='1000',\n",
    "                            retmode='xml', \n",
    "                            term=query)\n",
    "    results = Entrez.read(handle)\n",
    "    return results"
   ]
  },
  {
   "cell_type": "code",
   "execution_count": 3,
   "metadata": {},
   "outputs": [],
   "source": [
    "def search_and_count(query):\n",
    "    results = search(query)\n",
    "    if results['IdList']:\n",
    "        handle = Entrez.esummary(db=\"pubmed\", id=','.join(results['IdList']), retmode=\"xml\")\n",
    "        records = Entrez.parse(handle)\n",
    "        return(len(list(records)))\n",
    "    else:\n",
    "        return(0)"
   ]
  },
  {
   "cell_type": "code",
   "execution_count": 4,
   "metadata": {},
   "outputs": [],
   "source": [
    "# TODO: Get medical specialties automatically\n",
    "# https://id.nlm.nih.gov/mesh/query?query=PREFIX+rdf%3A+%3Chttp%3A%2F%2Fwww.w3.org%2F1999%2F02%2F22-rdf-syntax-ns%23%3E%0D%0APREFIX+rdfs%3A+%3Chttp%3A%2F%2Fwww.w3.org%2F2000%2F01%2Frdf-schema%23%3E%0D%0APREFIX+xsd%3A+%3Chttp%3A%2F%2Fwww.w3.org%2F2001%2FXMLSchema%23%3E%0D%0APREFIX+owl%3A+%3Chttp%3A%2F%2Fwww.w3.org%2F2002%2F07%2Fowl%23%3E%0D%0APREFIX+meshv%3A+%3Chttp%3A%2F%2Fid.nlm.nih.gov%2Fmesh%2Fvocab%23%3E%0D%0APREFIX+mesh%3A+%3Chttp%3A%2F%2Fid.nlm.nih.gov%2Fmesh%2F%3E%0D%0APREFIX+mesh2015%3A+%3Chttp%3A%2F%2Fid.nlm.nih.gov%2Fmesh%2F2015%2F%3E%0D%0APREFIX+mesh2016%3A+%3Chttp%3A%2F%2Fid.nlm.nih.gov%2Fmesh%2F2016%2F%3E%0D%0APREFIX+mesh2017%3A+%3Chttp%3A%2F%2Fid.nlm.nih.gov%2Fmesh%2F2017%2F%3E%0D%0A%0D%0A+SELECT+DISTINCT+%3Fdescriptor+%3Flabel%0D%0A+FROM+%3Chttp%3A%2F%2Fid.nlm.nih.gov%2Fmesh%3E%0D%0A%0D%0A+WHERE+%7B%0D%0A+++mesh%3AD008511+meshv%3AtreeNumber+%3FtreeNum+.%0D%0A+++%3FchildTreeNum+meshv%3AparentTreeNumber%2B+%3FtreeNum+.%0D%0A+++%3Fdescriptor+meshv%3AtreeNumber+%3FchildTreeNum+.%0D%0A+++%3Fdescriptor+rdfs%3Alabel+%3Flabel+.%0D%0A+%7D%0D%0A+%0D%0A+ORDER+BY+%3Flabel%0D%0A%0D%0A&format=HTML&inference=true&year=current&limit=1000&offset=0#lodestart-sparql-results\n",
    "#https://code.tutsplus.com/tutorials/working-with-mesh-files-in-python-linking-terms-and-numbers--cms-28587"
   ]
  },
  {
   "cell_type": "code",
   "execution_count": 5,
   "metadata": {},
   "outputs": [
    {
     "data": {
      "text/plain": [
       "0        Addiction Medicine\n",
       "1       Adolescent Medicine\n",
       "2     Adolescent Psychiatry\n",
       "3        Aerospace Medicine\n",
       "4    Allergy and Immunology\n",
       "Name: 1, dtype: object"
      ]
     },
     "execution_count": 5,
     "metadata": {},
     "output_type": "execute_result"
    }
   ],
   "source": [
    "mesh_specialties = pd.read_csv('mesh-specialties.txt', sep='\\t', header=None)[1]\n",
    "mesh_specialties[:5]"
   ]
  },
  {
   "cell_type": "code",
   "execution_count": null,
   "metadata": {},
   "outputs": [
    {
     "name": "stdout",
     "output_type": "stream",
     "text": [
      "Addiction Medicine - ENG: 42 - SPA: 0\n",
      "Adolescent Medicine - ENG: 1000 - SPA: 24\n",
      "Adolescent Psychiatry - ENG: 1000 - SPA: 14\n",
      "Aerospace Medicine - ENG: 1000 - SPA: 50\n",
      "Allergy and Immunology - ENG: 1000 - SPA: 242\n",
      "Andrology - ENG: 223 - SPA: 1\n",
      "Anesthesiology - ENG: 1000 - SPA: 736\n",
      "Bariatric Medicine - ENG: 63 - SPA: 0\n",
      "Behavioral Medicine - ENG: 1000 - SPA: 4\n",
      "Biological Psychiatry - ENG: 661 - SPA: 10\n",
      "Cardiac Electrophysiology - ENG: 374 - SPA: 2\n",
      "Cardiac Rehabilitation - ENG: 1000 - SPA: 29\n",
      "Cardiology - ENG: 1000 - SPA: 684\n",
      "Child Psychiatry - ENG: 1000 - SPA: 53\n",
      "Clinical Medicine - ENG: 1000 - SPA: 1000\n",
      "Colorectal Surgery - ENG: 1000 - SPA: 90\n",
      "Community Medicine - ENG: 1000 - SPA: 209\n",
      "Community Psychiatry - ENG: 1000 - SPA: 34\n",
      "Correction of Hearing Impairment - ENG: 1000 - SPA: 14\n",
      "Dermatology - ENG: 1000 - SPA: 583\n",
      "Disaster Medicine - ENG: 642 - SPA: 5\n",
      "Emergency Medicine - ENG: 1000 - SPA: 71\n",
      "Endocrinology - ENG: 1000 - SPA: 196\n",
      "Environmental Medicine - ENG: 313 - SPA: 1\n",
      "Epidemiology - ENG: 1000 - SPA: 582\n",
      "Evidence-Based Emergency Medicine - ENG: 371 - SPA: 0\n",
      "Evidence-Based Medicine - ENG: 1000 - SPA: 705\n",
      "Family Practice - ENG: 1000 - SPA: 1000\n",
      "Forensic Genetics - ENG: 1000 - SPA: 8\n",
      "Forensic Medicine - ENG: 1000 - SPA: 1000\n",
      "Forensic Pathology - ENG: 1000 - SPA: 5\n",
      "Forensic Psychiatry - ENG: 1000 - SPA: 205\n",
      "Gastroenterology - ENG: 1000 - SPA: 541\n"
     ]
    }
   ],
   "source": [
    "for s in mesh_specialties:\n",
    "    s_eng = s + \"[MH] AND ENG[LA]\"\n",
    "    s_spa = s + \"[MH] AND SPA[LA]\"\n",
    "    print(s, \"-\", \"ENG: \" + str(search_and_count(s_eng)), \"- SPA: \" + str(search_and_count(s_spa)))"
   ]
  }
 ],
 "metadata": {
  "kernelspec": {
   "display_name": "Python 3",
   "language": "python",
   "name": "python3"
  },
  "language_info": {
   "codemirror_mode": {
    "name": "ipython",
    "version": 3
   },
   "file_extension": ".py",
   "mimetype": "text/x-python",
   "name": "python",
   "nbconvert_exporter": "python",
   "pygments_lexer": "ipython3",
   "version": "3.5.3"
  }
 },
 "nbformat": 4,
 "nbformat_minor": 2
}
