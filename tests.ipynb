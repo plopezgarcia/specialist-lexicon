{
 "cells": [
  {
   "cell_type": "code",
   "execution_count": 13,
   "metadata": {},
   "outputs": [],
   "source": [
    "from Bio import Entrez\n",
    "import urllib.request\n",
    "import pandas as pd"
   ]
  },
  {
   "cell_type": "code",
   "execution_count": 14,
   "metadata": {},
   "outputs": [],
   "source": [
    "# TODO: paginate to get more results (set at 1000 for testing, max is 10000)\n",
    "def search(query):\n",
    "    Entrez.email = 'your.email@example.com'\n",
    "    handle = Entrez.esearch(db='pubmed', \n",
    "                            sort='relevance', \n",
    "                            retmax='1000',\n",
    "                            retmode='xml', \n",
    "                            term=query)\n",
    "    results = Entrez.read(handle)\n",
    "    return results"
   ]
  },
  {
   "cell_type": "code",
   "execution_count": 15,
   "metadata": {},
   "outputs": [],
   "source": [
    "def search_and_count(query):\n",
    "    results = search(query)\n",
    "    if results['IdList']:\n",
    "        handle = Entrez.esummary(db=\"pubmed\", id=','.join(results['IdList']), retmode=\"xml\")\n",
    "        records = Entrez.parse(handle)\n",
    "        return(len(list(records)))\n",
    "    else:\n",
    "        return(0)"
   ]
  },
  {
   "cell_type": "code",
   "execution_count": 16,
   "metadata": {},
   "outputs": [],
   "source": [
    "# TODO: Get medical specialties automatically\n",
    "# https://id.nlm.nih.gov/mesh/query?query=PREFIX+rdf%3A+%3Chttp%3A%2F%2Fwww.w3.org%2F1999%2F02%2F22-rdf-syntax-ns%23%3E%0D%0APREFIX+rdfs%3A+%3Chttp%3A%2F%2Fwww.w3.org%2F2000%2F01%2Frdf-schema%23%3E%0D%0APREFIX+xsd%3A+%3Chttp%3A%2F%2Fwww.w3.org%2F2001%2FXMLSchema%23%3E%0D%0APREFIX+owl%3A+%3Chttp%3A%2F%2Fwww.w3.org%2F2002%2F07%2Fowl%23%3E%0D%0APREFIX+meshv%3A+%3Chttp%3A%2F%2Fid.nlm.nih.gov%2Fmesh%2Fvocab%23%3E%0D%0APREFIX+mesh%3A+%3Chttp%3A%2F%2Fid.nlm.nih.gov%2Fmesh%2F%3E%0D%0APREFIX+mesh2015%3A+%3Chttp%3A%2F%2Fid.nlm.nih.gov%2Fmesh%2F2015%2F%3E%0D%0APREFIX+mesh2016%3A+%3Chttp%3A%2F%2Fid.nlm.nih.gov%2Fmesh%2F2016%2F%3E%0D%0APREFIX+mesh2017%3A+%3Chttp%3A%2F%2Fid.nlm.nih.gov%2Fmesh%2F2017%2F%3E%0D%0A%0D%0A+SELECT+DISTINCT+%3Fdescriptor+%3Flabel%0D%0A+FROM+%3Chttp%3A%2F%2Fid.nlm.nih.gov%2Fmesh%3E%0D%0A%0D%0A+WHERE+%7B%0D%0A+++mesh%3AD008511+meshv%3AtreeNumber+%3FtreeNum+.%0D%0A+++%3FchildTreeNum+meshv%3AparentTreeNumber%2B+%3FtreeNum+.%0D%0A+++%3Fdescriptor+meshv%3AtreeNumber+%3FchildTreeNum+.%0D%0A+++%3Fdescriptor+rdfs%3Alabel+%3Flabel+.%0D%0A+%7D%0D%0A+%0D%0A+ORDER+BY+%3Flabel%0D%0A%0D%0A&format=HTML&inference=true&year=current&limit=1000&offset=0#lodestart-sparql-results\n",
    "#https://code.tutsplus.com/tutorials/working-with-mesh-files-in-python-linking-terms-and-numbers--cms-28587"
   ]
  },
  {
   "cell_type": "code",
   "execution_count": 17,
   "metadata": {},
   "outputs": [
    {
     "data": {
      "text/plain": [
       "0        Addiction Medicine\n",
       "1       Adolescent Medicine\n",
       "2     Adolescent Psychiatry\n",
       "3        Aerospace Medicine\n",
       "4    Allergy and Immunology\n",
       "Name: 1, dtype: object"
      ]
     },
     "execution_count": 17,
     "metadata": {},
     "output_type": "execute_result"
    }
   ],
   "source": [
    "mesh_specialties = pd.read_csv('mesh-specialties.txt', sep='\\t', header=None)[1]\n",
    "mesh_specialties[:5]"
   ]
  },
  {
   "cell_type": "code",
   "execution_count": 18,
   "metadata": {},
   "outputs": [
    {
     "name": "stdout",
     "output_type": "stream",
     "text": [
      "Addiction Medicine - 43 - 0\n",
      "Adolescent Medicine - 1000 - 24\n",
      "Adolescent Psychiatry - 1000 - 14\n",
      "Aerospace Medicine - 1000 - 50\n",
      "Allergy and Immunology - 1000 - 242\n",
      "Andrology - 223 - 1\n",
      "Anesthesiology - 1000 - 736\n",
      "Bariatric Medicine - 63 - 0\n",
      "Behavioral Medicine - 1000 - 4\n",
      "Biological Psychiatry - 661 - 10\n",
      "Cardiac Electrophysiology - 374 - 2\n",
      "Cardiac Rehabilitation - 1000 - 29\n",
      "Cardiology - 1000 - 684\n",
      "Child Psychiatry - 1000 - 53\n",
      "Clinical Medicine - 1000 - 1000\n",
      "Colorectal Surgery - 1000 - 90\n",
      "Community Medicine - 1000 - 209\n",
      "Community Psychiatry - 1000 - 34\n",
      "Correction of Hearing Impairment - 1000 - 14\n",
      "Dermatology - 1000 - 583\n",
      "Disaster Medicine - 643 - 5\n",
      "Emergency Medicine - 1000 - 71\n",
      "Endocrinology - 1000 - 196\n",
      "Environmental Medicine - 313 - 1\n",
      "Epidemiology - 1000 - 582\n",
      "Evidence-Based Emergency Medicine - 373 - 0\n",
      "Evidence-Based Medicine - 1000 - 705\n",
      "Family Practice - 1000 - 1000\n",
      "Forensic Genetics - 1000 - 8\n",
      "Forensic Medicine - 1000 - 1000\n",
      "Forensic Pathology - 1000 - 5\n",
      "Forensic Psychiatry - 1000 - 205\n",
      "Gastroenterology - 1000 - 541\n",
      "General Practice - 1000 - 1000\n",
      "General Surgery - 1000 - 731\n",
      "Genetics, Medical - 1000 - 497\n",
      "Geography, Medical - 1000 - 56\n",
      "Geriatric Psychiatry - 1000 - 15\n",
      "Geriatrics - 1000 - 687\n",
      "Global Health - 1000 - 728\n",
      "Gynecology - 1000 - 663\n",
      "Hematology - 1000 - 167\n",
      "Hospital Medicine - 129 - 3\n",
      "Immunochemistry - 1000 - 498\n",
      "Infectious Disease Medicine - 438 - 33\n",
      "Integrative Medicine - 1000 - 6\n",
      "Internal Medicine - 1000 - 1000\n",
      "Medical Oncology - 1000 - 139\n",
      "Military Medicine - 1000 - 259\n",
      "Military Psychiatry - 1000 - 3\n",
      "Molecular Epidemiology - 1000 - 53\n",
      "Molecular Medicine - 1000 - 40\n",
      "Naval Medicine - 1000 - 100\n",
      "Neonatology - 1000 - 67\n",
      "Nephrology - 1000 - 197\n",
      "Neurological Rehabilitation - 1000 - 74\n",
      "Neurology - 1000 - 820\n",
      "Neuropathology - 163 - 0\n",
      "Neuropsychiatry - 468 - 15\n",
      "Neurosurgery - 1000 - 1000\n",
      "Neurotology - 63 - 7\n",
      "Nuclear Medicine - 1000 - 1000\n",
      "Obstetrics - 1000 - 669\n",
      "Occupational Medicine - 1000 - 226\n",
      "Ophthalmology - 1000 - 456\n",
      "Orthognathic Surgery - 1000 - 27\n",
      "Orthopedics - 1000 - 234\n",
      "Osteopathic Medicine - 1000 - 10\n",
      "Otolaryngology - 1000 - 243\n",
      "Palliative Medicine - 227 - 1\n",
      "Pathology - 1000 - 1000\n",
      "Pathology, Clinical - 1000 - 64\n",
      "Pathology, Molecular - 1000 - 3\n",
      "Pathology, Surgical - 1000 - 2\n",
      "Pediatric Emergency Medicine - 171 - 2\n",
      "Pediatrics - 1000 - 1000\n",
      "Perinatology - 1000 - 49\n",
      "Pharmacoepidemiology - 1000 - 23\n",
      "Physical and Rehabilitation Medicine - 1000 - 314\n",
      "Precision Medicine - 1000 - 113\n",
      "Preventive Medicine - 1000 - 568\n",
      "Preventive Psychiatry - 196 - 4\n",
      "Psychiatric Rehabilitation - 250 - 6\n",
      "Psychiatry - 1000 - 1000\n",
      "Psycho-Oncology - 41 - 0\n",
      "Public Health - 1000 - 1000\n",
      "Pulmonary Medicine - 1000 - 255\n",
      "Radiation Oncology - 1000 - 9\n",
      "Radiology - 1000 - 1000\n",
      "Radiology, Interventional - 1000 - 55\n",
      "Regenerative Medicine - 1000 - 21\n",
      "Rehabilitation - 1000 - 1000\n",
      "Reproductive Medicine - 1000 - 725\n",
      "Rheumatology - 1000 - 120\n",
      "Sleep Medicine Specialty - 283 - 1\n",
      "Social Medicine - 1000 - 146\n",
      "Specialties, Surgical - 1000 - 1000\n",
      "Sports Medicine - 1000 - 50\n",
      "Sports Nutritional Sciences - 44 - 0\n",
      "Stroke Rehabilitation - 1000 - 67\n",
      "Submarine Medicine - 508 - 3\n",
      "Surgery, Plastic - 1000 - 322\n",
      "Surgical Oncology - 238 - 1\n",
      "Telemedicine - 1000 - 207\n",
      "Telepathology - 723 - 0\n",
      "Teleradiology - 1000 - 8\n",
      "Telerehabilitation - 239 - 1\n",
      "Theranostic Nanomedicine - 1000 - 0\n",
      "Thoracic Surgery - 1000 - 1000\n",
      "Topography, Medical - 1000 - 13\n",
      "Transfusion Medicine - 173 - 0\n",
      "Traumatology - 1000 - 78\n",
      "Travel Medicine - 542 - 2\n",
      "Tropical Medicine - 1000 - 156\n",
      "Urology - 1000 - 545\n",
      "Vaccinology - 17 - 0\n",
      "Venereology - 406 - 24\n",
      "Veterinary Sports Medicine - 3 - 0\n",
      "Wilderness Medicine - 263 - 0\n"
     ]
    }
   ],
   "source": [
    "for s in mesh_specialties:\n",
    "    s_eng = s + \"[MH] AND ENG[LA]\"\n",
    "    s_spa = s + \"[MH] AND SPA[LA]\"\n",
    "    print(s, \"-\", search_and_count(s_eng), \"-\", search_and_count(s_spa))"
   ]
  },
  {
   "cell_type": "code",
   "execution_count": null,
   "metadata": {},
   "outputs": [],
   "source": []
  }
 ],
 "metadata": {
  "kernelspec": {
   "display_name": "Python 3",
   "language": "python",
   "name": "python3"
  },
  "language_info": {
   "codemirror_mode": {
    "name": "ipython",
    "version": 3
   },
   "file_extension": ".py",
   "mimetype": "text/x-python",
   "name": "python",
   "nbconvert_exporter": "python",
   "pygments_lexer": "ipython3",
   "version": "3.5.3"
  }
 },
 "nbformat": 4,
 "nbformat_minor": 2
}
